{
 "cells": [
  {
   "cell_type": "code",
   "execution_count": 1,
   "metadata": {},
   "outputs": [],
   "source": [
    "import pandas as pd\n",
    "import numpy as np"
   ]
  },
  {
   "cell_type": "code",
   "execution_count": 56,
   "metadata": {},
   "outputs": [
    {
     "data": {
      "text/html": [
       "<div>\n",
       "<style scoped>\n",
       "    .dataframe tbody tr th:only-of-type {\n",
       "        vertical-align: middle;\n",
       "    }\n",
       "\n",
       "    .dataframe tbody tr th {\n",
       "        vertical-align: top;\n",
       "    }\n",
       "\n",
       "    .dataframe thead th {\n",
       "        text-align: right;\n",
       "    }\n",
       "</style>\n",
       "<table border=\"1\" class=\"dataframe\">\n",
       "  <thead>\n",
       "    <tr style=\"text-align: right;\">\n",
       "      <th></th>\n",
       "      <th>Brand</th>\n",
       "      <th>Channel</th>\n",
       "      <th>Start Date</th>\n",
       "      <th>End Date</th>\n",
       "      <th>Actual Discount</th>\n",
       "      <th>Plan Discount</th>\n",
       "    </tr>\n",
       "  </thead>\n",
       "  <tbody>\n",
       "    <tr>\n",
       "      <th>0</th>\n",
       "      <td>X</td>\n",
       "      <td>HYPERMARKET</td>\n",
       "      <td>2019-02-01</td>\n",
       "      <td>18-01-2019</td>\n",
       "      <td>0.22</td>\n",
       "      <td>0.24</td>\n",
       "    </tr>\n",
       "    <tr>\n",
       "      <th>1</th>\n",
       "      <td>X</td>\n",
       "      <td>MINIMARKET</td>\n",
       "      <td>2019-02-01</td>\n",
       "      <td>28-01-2019</td>\n",
       "      <td>0.15</td>\n",
       "      <td>0.20</td>\n",
       "    </tr>\n",
       "    <tr>\n",
       "      <th>2</th>\n",
       "      <td>Y</td>\n",
       "      <td>HYPERMARKET</td>\n",
       "      <td>2019-01-01</td>\n",
       "      <td>18-02-2019</td>\n",
       "      <td>0.20</td>\n",
       "      <td>0.25</td>\n",
       "    </tr>\n",
       "    <tr>\n",
       "      <th>3</th>\n",
       "      <td>Z</td>\n",
       "      <td>MINIMARKET</td>\n",
       "      <td>2019-01-03</td>\n",
       "      <td>2019-04-03 00:00:00</td>\n",
       "      <td>0.15</td>\n",
       "      <td>0.20</td>\n",
       "    </tr>\n",
       "    <tr>\n",
       "      <th>4</th>\n",
       "      <td>Z</td>\n",
       "      <td>DISCOUNTER</td>\n",
       "      <td>2019-01-01</td>\n",
       "      <td>18-02-2019</td>\n",
       "      <td>0.20</td>\n",
       "      <td>0.25</td>\n",
       "    </tr>\n",
       "  </tbody>\n",
       "</table>\n",
       "</div>"
      ],
      "text/plain": [
       "  Brand       Channel Start Date             End Date  Actual Discount  \\\n",
       "0      X  HYPERMARKET 2019-02-01           18-01-2019             0.22   \n",
       "1      X   MINIMARKET 2019-02-01           28-01-2019             0.15   \n",
       "2      Y  HYPERMARKET 2019-01-01           18-02-2019             0.20   \n",
       "3      Z   MINIMARKET 2019-01-03  2019-04-03 00:00:00             0.15   \n",
       "4      Z   DISCOUNTER 2019-01-01           18-02-2019             0.20   \n",
       "\n",
       "   Plan Discount  \n",
       "0           0.24  \n",
       "1           0.20  \n",
       "2           0.25  \n",
       "3           0.20  \n",
       "4           0.25  "
      ]
     },
     "execution_count": 56,
     "metadata": {},
     "output_type": "execute_result"
    }
   ],
   "source": [
    "df = pd.read_excel(\"demo_data.xlsx\")\n",
    "df.head()"
   ]
  },
  {
   "cell_type": "code",
   "execution_count": 74,
   "metadata": {},
   "outputs": [
    {
     "name": "stdout",
     "output_type": "stream",
     "text": [
      "<class 'str'>\n",
      "<class 'datetime.date'>\n",
      "2019-01-18\n"
     ]
    },
    {
     "data": {
      "text/plain": [
       "Timestamp('2019-02-01 00:00:00')"
      ]
     },
     "execution_count": 74,
     "metadata": {},
     "output_type": "execute_result"
    }
   ],
   "source": [
    "end_date = df.at[0, 'End Date']\n",
    "print(type(end_date))\n",
    "end_date = datetime.datetime.strptime(end_date, '%d-%m-%Y').date()\n",
    "print(type(end_date))\n",
    "print(end_date)\n",
    "start_date = df.at[0, 'Start Date']\n",
    "start_date"
   ]
  },
  {
   "cell_type": "code",
   "execution_count": 75,
   "metadata": {},
   "outputs": [
    {
     "data": {
      "text/plain": [
       "0.24"
      ]
     },
     "execution_count": 75,
     "metadata": {},
     "output_type": "execute_result"
    }
   ],
   "source": [
    "max_discount = max(df.at[0, 'Actual Discount'], df.at[0, 'Plan Discount'])\n",
    "max_discount"
   ]
  },
  {
   "cell_type": "code",
   "execution_count": 76,
   "metadata": {},
   "outputs": [
    {
     "name": "stdout",
     "output_type": "stream",
     "text": [
      "2019-01-05\n"
     ]
    },
    {
     "data": {
      "text/plain": [
       "datetime.date(2019, 1, 5)"
      ]
     },
     "execution_count": 76,
     "metadata": {},
     "output_type": "execute_result"
    }
   ],
   "source": [
    "import datetime\n",
    "# format = '%d'\n",
    "final_date = datetime.datetime.strptime('5/1/2019', '%d/%m/%Y')\n",
    "print(final_date.date())\n",
    "final_date.date()"
   ]
  },
  {
   "cell_type": "code",
   "execution_count": 77,
   "metadata": {},
   "outputs": [
    {
     "name": "stdout",
     "output_type": "stream",
     "text": [
      "2019-01-05 2019-02-01 00:00:00\n",
      "4\n",
      "4\n",
      "2019-01-05\n",
      "2019-01-12 2019-01-05\n",
      "7\n",
      "7\n",
      "2019-01-12\n",
      "2019-01-19 2019-01-12\n",
      "6\n",
      "6\n",
      "2019-01-18\n"
     ]
    }
   ],
   "source": [
    "date_lst = [\"5/1/2019\", \"12/1/2019\", \"19/1/2019\"]\n",
    "out_dict = {}\n",
    "for i in date_lst:\n",
    "    final_date = datetime.datetime.strptime(i, '%d/%m/%Y').date()\n",
    "    print(final_date, start_date)\n",
    "    if final_date.day>end_date.day:\n",
    "        final_date = end_date\n",
    "    out_dict[final_date] = {}\n",
    "    out_dict[final_date][\"HYPERMARKET\"] = {}\n",
    "    out_dict[final_date][\"HYPERMARKET\"][\"VH\"] = 0\n",
    "    out_dict[final_date][\"HYPERMARKET\"][\"H\"] = 0\n",
    "    out_dict[final_date][\"HYPERMARKET\"][\"M\"] = 0\n",
    "    out_dict[final_date][\"HYPERMARKET\"][\"L\"] = 0\n",
    "    if max_discount>=0.33:#VH\n",
    "        count = final_date.day - start_date.day\n",
    "        print(final_date.day - start_date.day)\n",
    "        print(count)\n",
    "        out_dict[final_date][\"HYPERMARKET\"][\"VH\"] = count\n",
    "        start_date = final_date\n",
    "    elif max_discount>=0.22:#H\n",
    "        count = final_date.day - start_date.day\n",
    "        print(final_date.day - start_date.day)\n",
    "        out_dict[final_date][\"HYPERMARKET\"][\"H\"] = count\n",
    "        start_date = final_date\n",
    "        print(count)\n",
    "    elif max_discount>=0.10:#M\n",
    "        count = final_date.day - start_date.day\n",
    "        print(final_date.day - start_date.day)\n",
    "        out_dict[final_date][\"HYPERMARKET\"][\"M\"] = count\n",
    "        start_date = final_date\n",
    "        print(count)\n",
    "    else:\n",
    "        count = final_date.day - start_date.day\n",
    "        print(final_date.day - start_date.day)\n",
    "        out_dict[final_date][\"HYPERMARKET\"][\"L\"] = count\n",
    "        start_date = final_date\n",
    "        print(count)\n",
    "    \n",
    "    print(start_date)"
   ]
  },
  {
   "cell_type": "code",
   "execution_count": 78,
   "metadata": {},
   "outputs": [
    {
     "data": {
      "text/plain": [
       "{datetime.date(2019, 1, 5): {'HYPERMARKET': {'VH': 0, 'H': 4, 'M': 0, 'L': 0}},\n",
       " datetime.date(2019, 1, 12): {'HYPERMARKET': {'VH': 0,\n",
       "   'H': 7,\n",
       "   'M': 0,\n",
       "   'L': 0}},\n",
       " datetime.date(2019, 1, 18): {'HYPERMARKET': {'VH': 0,\n",
       "   'H': 6,\n",
       "   'M': 0,\n",
       "   'L': 0}}}"
      ]
     },
     "execution_count": 78,
     "metadata": {},
     "output_type": "execute_result"
    }
   ],
   "source": [
    "out_dict"
   ]
  },
  {
   "cell_type": "code",
   "execution_count": 45,
   "metadata": {},
   "outputs": [
    {
     "data": {
      "text/plain": [
       "19"
      ]
     },
     "execution_count": 45,
     "metadata": {},
     "output_type": "execute_result"
    }
   ],
   "source": [
    "start_date.day"
   ]
  },
  {
   "cell_type": "code",
   "execution_count": 79,
   "metadata": {},
   "outputs": [
    {
     "data": {
      "text/html": [
       "<div>\n",
       "<style scoped>\n",
       "    .dataframe tbody tr th:only-of-type {\n",
       "        vertical-align: middle;\n",
       "    }\n",
       "\n",
       "    .dataframe tbody tr th {\n",
       "        vertical-align: top;\n",
       "    }\n",
       "\n",
       "    .dataframe thead th {\n",
       "        text-align: right;\n",
       "    }\n",
       "</style>\n",
       "<table border=\"1\" class=\"dataframe\">\n",
       "  <thead>\n",
       "    <tr style=\"text-align: right;\">\n",
       "      <th></th>\n",
       "      <th>2019-01-05</th>\n",
       "      <th>2019-01-12</th>\n",
       "      <th>2019-01-18</th>\n",
       "    </tr>\n",
       "  </thead>\n",
       "  <tbody>\n",
       "    <tr>\n",
       "      <th>HYPERMARKET</th>\n",
       "      <td>{'VH': 0, 'H': 4, 'M': 0, 'L': 0}</td>\n",
       "      <td>{'VH': 0, 'H': 7, 'M': 0, 'L': 0}</td>\n",
       "      <td>{'VH': 0, 'H': 6, 'M': 0, 'L': 0}</td>\n",
       "    </tr>\n",
       "  </tbody>\n",
       "</table>\n",
       "</div>"
      ],
      "text/plain": [
       "                                    2019-01-05  \\\n",
       "HYPERMARKET  {'VH': 0, 'H': 4, 'M': 0, 'L': 0}   \n",
       "\n",
       "                                    2019-01-12  \\\n",
       "HYPERMARKET  {'VH': 0, 'H': 7, 'M': 0, 'L': 0}   \n",
       "\n",
       "                                    2019-01-18  \n",
       "HYPERMARKET  {'VH': 0, 'H': 6, 'M': 0, 'L': 0}  "
      ]
     },
     "execution_count": 79,
     "metadata": {},
     "output_type": "execute_result"
    }
   ],
   "source": [
    "out_df = pd.DataFrame.from_dict(out_dict)\n",
    "out_df"
   ]
  },
  {
   "cell_type": "code",
   "execution_count": null,
   "metadata": {},
   "outputs": [],
   "source": []
  }
 ],
 "metadata": {
  "kernelspec": {
   "display_name": "Python 3",
   "language": "python",
   "name": "python3"
  },
  "language_info": {
   "codemirror_mode": {
    "name": "ipython",
    "version": 3
   },
   "file_extension": ".py",
   "mimetype": "text/x-python",
   "name": "python",
   "nbconvert_exporter": "python",
   "pygments_lexer": "ipython3",
   "version": "3.8.5"
  }
 },
 "nbformat": 4,
 "nbformat_minor": 4
}
